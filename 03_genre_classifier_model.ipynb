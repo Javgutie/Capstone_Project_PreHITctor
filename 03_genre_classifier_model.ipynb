{
 "cells": [
  {
   "cell_type": "markdown",
   "metadata": {},
   "source": [
    "This script depicts the design of the Convolutional Neural Netwrok (CNN) employed for musical genre classification. The \"genre_classifier.json\" file provides the features of the model which are the MFCCs (Mel-Frequency Cepstral Coefficients) of the audio files, it also gives the labels (11 in total, labeled from 0 to 10) and the musical genres (11 in total: Blues, Classical, Country, Disco, Electronic, Hiphop, Jazz, Metal, Pop, Reggae, Rock)."
   ]
  },
  {
   "cell_type": "markdown",
   "metadata": {},
   "source": [
    "## Import libraries ##"
   ]
  },
  {
   "cell_type": "code",
   "execution_count": 3,
   "metadata": {},
   "outputs": [
    {
     "name": "stderr",
     "output_type": "stream",
     "text": [
      "2024-06-27 23:25:16.769650: I tensorflow/core/platform/cpu_feature_guard.cc:210] This TensorFlow binary is optimized to use available CPU instructions in performance-critical operations.\n",
      "To enable the following instructions: AVX2 AVX512F AVX512_VNNI FMA, in other operations, rebuild TensorFlow with the appropriate compiler flags.\n"
     ]
    }
   ],
   "source": [
    "import json\n",
    "import numpy as np\n",
    "from sklearn.model_selection import train_test_split\n",
    "import tensorflow as tf\n",
    "from tensorflow.keras import layers, regularizers\n",
    "from tensorflow.keras.callbacks import EarlyStopping, ReduceLROnPlateau\n",
    "import keras_tuner as kt\n",
    "from tensorflow.keras.models import load_model\n",
    "from sklearn.metrics import classification_report\n",
    "import matplotlib.pyplot as plt\n",
    "import seaborn as sns\n",
    "from sklearn.metrics import confusion_matrix"
   ]
  },
  {
   "cell_type": "code",
   "execution_count": 4,
   "metadata": {},
   "outputs": [
    {
     "name": "stdout",
     "output_type": "stream",
     "text": [
      "['Blues' 'Classical' 'Country' 'Disco' 'Electronic' 'Hiphop' 'Jazz'\n",
      " 'Metal' 'Pop' 'Reggae' 'Rock']\n"
     ]
    }
   ],
   "source": [
    "\n",
    "# Load data from JSON file\n",
    "def load_data(json_path):\n",
    "    '''Function to load the data contained in the json file'''\n",
    "    with open(json_path, 'r') as f:\n",
    "        data = json.load(f)\n",
    "    \n",
    "    # Extract features, labels and genres\n",
    "    X = np.array(data['mfcc_features'])\n",
    "    y = np.array(data['labels'])\n",
    "    genres = np.array(data['genres'])\n",
    "    \n",
    "    return X, y, genres\n",
    "\n",
    "# Path to the JSON file\n",
    "json_path = 'genre_classifier.json'\n",
    "\n",
    "# Load the data\n",
    "X, y, genres = load_data(json_path)\n",
    "\n",
    "# Expand dimensions to match CNN input shape requirements\n",
    "X = np.expand_dims(X, axis=-1)\n",
    "print(genres)"
   ]
  },
  {
   "cell_type": "code",
   "execution_count": 5,
   "metadata": {},
   "outputs": [
    {
     "data": {
      "text/plain": [
       "((9764, 130, 13, 1),\n",
       " (1221, 130, 13, 1),\n",
       " (1221, 130, 13, 1),\n",
       " (9764,),\n",
       " (1221,),\n",
       " (1221,))"
      ]
     },
     "execution_count": 5,
     "metadata": {},
     "output_type": "execute_result"
    }
   ],
   "source": [
    "#Split the data into training, validation, and test sets\n",
    "X_train, X_temp, y_train, y_temp = train_test_split(X, y, test_size=0.2, random_state=42)\n",
    "X_val, X_test, y_val, y_test = train_test_split(X_temp, y_temp, test_size=0.5, random_state=42)\n",
    "\n",
    "X_train.shape, X_val.shape, X_test.shape, y_train.shape, y_val.shape, y_test.shape"
   ]
  },
  {
   "cell_type": "markdown",
   "metadata": {},
   "source": [
    "## Define function to plot the results"
   ]
  },
  {
   "cell_type": "code",
   "execution_count": 6,
   "metadata": {},
   "outputs": [],
   "source": [
    "# Plotting the results\n",
    "def plot_history(history):\n",
    "    \"\"\"Function to plot accuracy/loss for training/validation set as a function of the epochs.\n",
    "\n",
    "    :param history: Training history of the model\n",
    "    :return: None\n",
    "    \"\"\"\n",
    "\n",
    "    epochs = range(1, len(history.history['accuracy']) + 1)\n",
    "\n",
    "    # Create a figure with 2 subplots\n",
    "    fig, axs = plt.subplots(2, 1, figsize=(10, 10), dpi=100)\n",
    "\n",
    "    # Plot accuracy\n",
    "    axs[0].plot(epochs, history.history['accuracy'], 'o-', label='Training accuracy', color='blue')\n",
    "    axs[0].plot(epochs, history.history['val_accuracy'], 'o-', label='Validation accuracy', color='green')\n",
    "    axs[0].set_title('Training and Validation Accuracy', fontsize=16)\n",
    "    axs[0].set_ylabel('Accuracy', fontsize=14)\n",
    "    axs[0].set_xlabel('Epoch', fontsize=14)\n",
    "    axs[0].legend(loc='lower right', fontsize=12)\n",
    "    axs[0].grid(True)\n",
    "\n",
    "    # Plot loss\n",
    "    axs[1].plot(epochs, history.history['loss'], 'o-', label='Training loss', color='red')\n",
    "    axs[1].plot(epochs, history.history['val_loss'], 'o-', label='Validation loss', color='orange')\n",
    "    axs[1].set_title('Training and Validation Loss', fontsize=16)\n",
    "    axs[1].set_ylabel('Loss', fontsize=14)\n",
    "    axs[1].set_xlabel('Epoch', fontsize=14)\n",
    "    axs[1].legend(loc='upper right', fontsize=12)\n",
    "    axs[1].grid(True)\n",
    "\n",
    "    # Adjust the layout\n",
    "    plt.tight_layout()\n",
    "    \n",
    "    # Show the plots\n",
    "    plt.show()"
   ]
  },
  {
   "cell_type": "markdown",
   "metadata": {},
   "source": [
    "## Design of Convolutional Neural Network"
   ]
  },
  {
   "cell_type": "code",
   "execution_count": 1,
   "metadata": {},
   "outputs": [],
   "source": [
    "# The following script takes several minutes, depending on the computer. Run it only if you want to obtain the best CNN model. Anyway this model is already in the folder \"models\" \n",
    "# as \"genre_classifier.keras\".\n",
    "\n",
    "# Step-by-Step Plan of the design\n",
    "# Define a HyperModel: Create a function that builds a model based on given hyperparameters.\n",
    "# Setup the Tuner: Configure the tuner to search through the hyperparameter space.\n",
    "# Search for the Best Hyperparameters: Run the tuner to find the best hyperparameters.\n",
    "# Train the Model with Best Hyperparameters: Use the best hyperparameters to train the final model.\n",
    "\n",
    "# Explanation of the Hyperparameters\n",
    "# Filters in Convolutional Layers: The number of filters in each convolutional layer.\n",
    "# Dropout Rates: The dropout rates for regularization.\n",
    "# Number of Convolutional Layers: The number of convolutional layers.\n",
    "# Units in Dense Layers: The number of units in each dense layer.\n",
    "# Learning Rate: The learning rate for the optimizer.\n",
    "\n",
    "# Determine the input shape\n",
    "input_shape = X_train.shape[1:] \n",
    "\n",
    "# Define a model building function for Keras Tuner\n",
    "def build_model(hp):\n",
    "    model = tf.keras.Sequential()\n",
    "    \n",
    "    model.add(layers.Conv2D(\n",
    "        filters=hp.Int('conv_1_filters', min_value=32, max_value=128, step=32),\n",
    "        kernel_size=(3, 3),\n",
    "        padding='same',\n",
    "        kernel_regularizer=regularizers.l2(0.001),\n",
    "        input_shape=input_shape))\n",
    "    model.add(layers.BatchNormalization())\n",
    "    model.add(layers.Activation('relu'))\n",
    "    model.add(layers.MaxPooling2D((2, 2)))\n",
    "    model.add(layers.Dropout(hp.Float('conv_1_dropout', 0.3, 0.5, step=0.1)))\n",
    "    \n",
    "    for i in range(hp.Int('conv_layers', 1, 3)):\n",
    "        model.add(layers.Conv2D(\n",
    "            filters=hp.Int(f'conv_{i+2}_filters', min_value=32, max_value=256, step=32),\n",
    "            kernel_size=(3, 3),\n",
    "            padding='same',\n",
    "            kernel_regularizer=regularizers.l2(0.001)))\n",
    "        model.add(layers.BatchNormalization())\n",
    "        model.add(layers.Activation('relu'))\n",
    "        model.add(layers.MaxPooling2D((2, 2)))\n",
    "        model.add(layers.Dropout(hp.Float(f'conv_{i+2}_dropout', 0.3, 0.5, step=0.1)))\n",
    "\n",
    "    model.add(layers.Flatten())\n",
    "    \n",
    "    for i in range(hp.Int('dense_layers', 1, 2)):\n",
    "        model.add(layers.Dense(\n",
    "            units=hp.Int(f'dense_{i+1}_units', min_value=256, max_value=512, step=128),\n",
    "            kernel_regularizer=regularizers.l2(0.001)))\n",
    "        model.add(layers.BatchNormalization())\n",
    "        model.add(layers.Activation('relu'))\n",
    "        model.add(layers.Dropout(hp.Float(f'dense_{i+1}_dropout', 0.3, 0.5, step=0.1)))\n",
    "\n",
    "    model.add(layers.Dense(len(np.unique(y_train)), activation='softmax'))\n",
    "\n",
    "    model.compile(\n",
    "        optimizer=tf.keras.optimizers.Adam(hp.Choice('learning_rate', [1e-2, 1e-3, 1e-4])),\n",
    "        loss='sparse_categorical_crossentropy',\n",
    "        metrics=['accuracy'])\n",
    "\n",
    "    return model\n",
    "\n",
    "# Set up the tuner\n",
    "tuner = kt.RandomSearch(\n",
    "    build_model,\n",
    "    objective='val_accuracy',\n",
    "    max_trials=10,\n",
    "    executions_per_trial=1,\n",
    "    directory='tuner_dir',\n",
    "    project_name='music_genre_classification')\n",
    "\n",
    "# Early stopping callback\n",
    "early_stopping = EarlyStopping(monitor='val_loss', patience=10, restore_best_weights=True)\n",
    "\n",
    "# Learning rate reduction on plateau\n",
    "reduce_lr = ReduceLROnPlateau(monitor='val_loss', factor=0.5, patience=5, min_lr=1e-6)\n",
    "\n",
    "# Search for the best hyperparameters\n",
    "tuner.search(X_train, y_train, epochs=100, validation_data=(X_test, y_test), batch_size=32, callbacks=[early_stopping, reduce_lr])\n",
    "\n",
    "# Get the best hyperparameters\n",
    "best_hp = tuner.get_best_hyperparameters()[0]\n",
    "\n",
    "# Build the model with the best hyperparameters\n",
    "model = build_model(best_hp)\n",
    "\n",
    "# Train the model\n",
    "history = model.fit(X_train, y_train, epochs=100, validation_data=(X_val, y_val), batch_size=32, callbacks=[early_stopping, reduce_lr])\n",
    "\n",
    "#plot the result\n",
    "plot_history(history)\n"
   ]
  },
  {
   "cell_type": "markdown",
   "metadata": {},
   "source": [
    "## Save the model "
   ]
  },
  {
   "cell_type": "code",
   "execution_count": null,
   "metadata": {},
   "outputs": [],
   "source": [
    "# Uncomment the folowwing line of code if you want to save the best model. It is already saved in the folder \"models\" as \"genre_classifier.keras\"\n",
    "#model.save('models/genre_classifier.keras')"
   ]
  },
  {
   "cell_type": "markdown",
   "metadata": {},
   "source": [
    "## Evaluate the model"
   ]
  },
  {
   "cell_type": "code",
   "execution_count": 8,
   "metadata": {},
   "outputs": [
    {
     "name": "stdout",
     "output_type": "stream",
     "text": [
      "\u001b[1m39/39\u001b[0m \u001b[32m━━━━━━━━━━━━━━━━━━━━\u001b[0m\u001b[37m\u001b[0m \u001b[1m2s\u001b[0m 33ms/step - accuracy: 0.8826 - loss: 0.5999\n",
      "Test Loss: 0.5841645002365112\n",
      "Test Accuracy: 0.8869779109954834\n"
     ]
    }
   ],
   "source": [
    "# Load the saved model\n",
    "model = load_model('models/genre_classifier.keras')\n",
    "# Evaluate the model on the test data\n",
    "test_loss, test_accuracy = model.evaluate(X_test, y_test)\n",
    "print(f\"Test Loss: {test_loss}\")\n",
    "print(f\"Test Accuracy: {test_accuracy}\")"
   ]
  },
  {
   "cell_type": "code",
   "execution_count": 9,
   "metadata": {},
   "outputs": [
    {
     "name": "stdout",
     "output_type": "stream",
     "text": [
      "\u001b[1m39/39\u001b[0m \u001b[32m━━━━━━━━━━━━━━━━━━━━\u001b[0m\u001b[37m\u001b[0m \u001b[1m2s\u001b[0m 41ms/step\n"
     ]
    }
   ],
   "source": [
    "# Generate predictions on the test data\n",
    "y_pred = model.predict(X_test)\n",
    "y_pred_classes = np.argmax(y_pred, axis=1)"
   ]
  },
  {
   "cell_type": "code",
   "execution_count": 11,
   "metadata": {},
   "outputs": [
    {
     "data": {
      "image/png": "[encoded data removed]",
      "text/plain": [
       "<Figure size 1000x800 with 2 Axes>"
      ]
     },
     "metadata": {},
     "output_type": "display_data"
    }
   ],
   "source": [
    "# Compute confusion matrix\n",
    "conf_matrix = confusion_matrix(y_test, y_pred_classes)\n",
    "\n",
    "# Plot confusion matrix\n",
    "plt.figure(figsize=(10, 8))\n",
    "sns.heatmap(conf_matrix, annot=True, fmt='d', cmap='Blues')\n",
    "plt.xlabel('Predicted Label')\n",
    "plt.ylabel('True Label')\n",
    "plt.title('Confusion Matrix')\n",
    "plt.show()\n"
   ]
  }
 ],
 "metadata": {
  "kernelspec": {
   "display_name": ".venv",
   "language": "python",
   "name": "python3"
  },
  "language_info": {
   "codemirror_mode": {
    "name": "ipython",
    "version": 3
   },
   "file_extension": ".py",
   "mimetype": "text/x-python",
   "name": "python",
   "nbconvert_exporter": "python",
   "pygments_lexer": "ipython3",
   "version": "3.11.3"
  }
 },
 "nbformat": 4,
 "nbformat_minor": 2
}
